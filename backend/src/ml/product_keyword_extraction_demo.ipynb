{
 "cells": [
  {
   "cell_type": "markdown",
   "id": "82cbb807",
   "metadata": {},
   "source": [
    "# Product Keyword Extraction Demo (Dialogflow Version)\n",
    "This notebook previously demonstrated how to train and test a simple ML model for extracting product keywords from e-commerce queries.\n",
    "**Note:** The project now uses Dialogflow for all intent detection and keyword extraction. The custom ML logic is deprecated and not used in production. You can use Dialogflow's built-in NLP and intent features for product search and recommendations."
   ]
  },
  {
   "cell_type": "markdown",
   "id": "4bf015eb",
   "metadata": {},
   "source": [
    "## 1. Set Up Project Structure with ml_service Folder\n",
    "\n",
    "We separate all ML logic into the `ml_service` folder. This keeps the notebook clean and allows you to reuse the ML code in your backend or other scripts.\n",
    "\n",
    "- `ml_service/keyword_extractor.py`: Contains the keyword extraction model and helper functions.\n",
    "- This notebook: For training, testing, and demo purposes only.\n",
    "\n",
    "**This approach is recommended for maintainability and production readiness.**"
   ]
  },
  {
   "cell_type": "code",
   "execution_count": 1,
   "id": "d633d507",
   "metadata": {},
   "outputs": [],
   "source": [
    "# 2. Import Required Libraries\n",
    "import pandas as pd\n",
    "from ml_service.keyword_extractor import train_keyword_extractor, test_keyword_extractor"
   ]
  },
  {
   "cell_type": "code",
   "execution_count": 2,
   "id": "405395ca",
   "metadata": {},
   "outputs": [
    {
     "data": {
      "text/html": [
       "<div>\n",
       "<style scoped>\n",
       "    .dataframe tbody tr th:only-of-type {\n",
       "        vertical-align: middle;\n",
       "    }\n",
       "\n",
       "    .dataframe tbody tr th {\n",
       "        vertical-align: top;\n",
       "    }\n",
       "\n",
       "    .dataframe thead th {\n",
       "        text-align: right;\n",
       "    }\n",
       "</style>\n",
       "<table border=\"1\" class=\"dataframe\">\n",
       "  <thead>\n",
       "    <tr style=\"text-align: right;\">\n",
       "      <th></th>\n",
       "      <th>name</th>\n",
       "      <th>category</th>\n",
       "    </tr>\n",
       "  </thead>\n",
       "  <tbody>\n",
       "    <tr>\n",
       "      <th>0</th>\n",
       "      <td>Red Dress</td>\n",
       "      <td>Fashion</td>\n",
       "    </tr>\n",
       "    <tr>\n",
       "      <th>1</th>\n",
       "      <td>Blue Jeans</td>\n",
       "      <td>Fashion</td>\n",
       "    </tr>\n",
       "    <tr>\n",
       "      <th>2</th>\n",
       "      <td>Wireless Earbuds</td>\n",
       "      <td>Electronics</td>\n",
       "    </tr>\n",
       "    <tr>\n",
       "      <th>3</th>\n",
       "      <td>Smartphone</td>\n",
       "      <td>Electronics</td>\n",
       "    </tr>\n",
       "    <tr>\n",
       "      <th>4</th>\n",
       "      <td>Coffee Maker</td>\n",
       "      <td>Home Appliances</td>\n",
       "    </tr>\n",
       "    <tr>\n",
       "      <th>5</th>\n",
       "      <td>Yoga Mat</td>\n",
       "      <td>Fitness</td>\n",
       "    </tr>\n",
       "    <tr>\n",
       "      <th>6</th>\n",
       "      <td>Running Shoes</td>\n",
       "      <td>Footwear</td>\n",
       "    </tr>\n",
       "    <tr>\n",
       "      <th>7</th>\n",
       "      <td>Leather Wallet</td>\n",
       "      <td>Accessories</td>\n",
       "    </tr>\n",
       "    <tr>\n",
       "      <th>8</th>\n",
       "      <td>Sunglasses</td>\n",
       "      <td>Accessories</td>\n",
       "    </tr>\n",
       "    <tr>\n",
       "      <th>9</th>\n",
       "      <td>Bluetooth Speaker</td>\n",
       "      <td>Electronics</td>\n",
       "    </tr>\n",
       "  </tbody>\n",
       "</table>\n",
       "</div>"
      ],
      "text/plain": [
       "                name         category\n",
       "0          Red Dress          Fashion\n",
       "1         Blue Jeans          Fashion\n",
       "2   Wireless Earbuds      Electronics\n",
       "3         Smartphone      Electronics\n",
       "4       Coffee Maker  Home Appliances\n",
       "5           Yoga Mat          Fitness\n",
       "6      Running Shoes         Footwear\n",
       "7     Leather Wallet      Accessories\n",
       "8         Sunglasses      Accessories\n",
       "9  Bluetooth Speaker      Electronics"
      ]
     },
     "execution_count": 2,
     "metadata": {},
     "output_type": "execute_result"
    }
   ],
   "source": [
    "# 3. Load and Preprocess Data\n",
    "# Create a random dataset of e-commerce product names and categories\n",
    "products = [\n",
    "    {'name': 'Red Dress', 'category': 'Fashion'},\n",
    "    {'name': 'Blue Jeans', 'category': 'Fashion'},\n",
    "    {'name': 'Wireless Earbuds', 'category': 'Electronics'},\n",
    "    {'name': 'Smartphone', 'category': 'Electronics'},\n",
    "    {'name': 'Coffee Maker', 'category': 'Home Appliances'},\n",
    "    {'name': 'Yoga Mat', 'category': 'Fitness'},\n",
    "    {'name': 'Running Shoes', 'category': 'Footwear'},\n",
    "    {'name': 'Leather Wallet', 'category': 'Accessories'},\n",
    "    {'name': 'Sunglasses', 'category': 'Accessories'},\n",
    "    {'name': 'Bluetooth Speaker', 'category': 'Electronics'}\n",
    "]\n",
    "df = pd.DataFrame(products)\n",
    "product_names = df['name'].tolist()\n",
    "df"
   ]
  },
  {
   "cell_type": "markdown",
   "id": "ec0f7221",
   "metadata": {},
   "source": [
    "## 4. Define and Save ML Model in ml_service\n",
    "\n",
    "The ML model and helper functions are defined in `ml_service/keyword_extractor.py`. This file contains a simple TF-IDF + cosine similarity based extractor for product keywords. You can extend this with more advanced NLP or ML models as needed."
   ]
  },
  {
   "cell_type": "code",
   "execution_count": 3,
   "id": "09d95d77",
   "metadata": {},
   "outputs": [
    {
     "name": "stdout",
     "output_type": "stream",
     "text": [
      "Model trained on product names.\n"
     ]
    }
   ],
   "source": [
    "# 5. Train the Model Using ml_service\n",
    "extractor = train_keyword_extractor(product_names)\n",
    "print('Model trained on product names.')"
   ]
  },
  {
   "cell_type": "code",
   "execution_count": 4,
   "id": "25447455",
   "metadata": {},
   "outputs": [
    {
     "name": "stdout",
     "output_type": "stream",
     "text": [
      "Query: Show me some dresses\n",
      "  Match: Bluetooth Speaker (score: 0.00)\n",
      "\n",
      "Query: I want wireless headphones\n",
      "  Match: Wireless Earbuds (score: 0.71)\n",
      "\n",
      "Query: Buy a coffee machine\n",
      "  Match: Coffee Maker (score: 0.71)\n",
      "\n",
      "Query: Need running shoes\n",
      "  Match: Running Shoes (score: 1.00)\n",
      "\n",
      "Query: Looking for sunglasses\n",
      "  Match: Sunglasses (score: 1.00)\n",
      "\n",
      "Query: Order a yoga mat\n",
      "  Match: Yoga Mat (score: 1.00)\n",
      "\n",
      "Query: Find a leather wallet\n",
      "  Match: Leather Wallet (score: 1.00)\n",
      "\n",
      "Query: Bluetooth music box\n",
      "  Match: Bluetooth Speaker (score: 0.71)\n",
      "\n",
      "Query: Smart mobile phone\n",
      "  Match: Bluetooth Speaker (score: 0.00)\n",
      "\n",
      "Query: Blue pants\n",
      "  Match: Blue Jeans (score: 0.71)\n",
      "\n"
     ]
    }
   ],
   "source": [
    "# 6. Test/Evaluate the Model Using ml_service\n",
    "sample_queries = [\n",
    "    'Show me some dresses',\n",
    "    'I want wireless headphones',\n",
    "    'Buy a coffee machine',\n",
    "    'Need running shoes',\n",
    "    'Looking for sunglasses',\n",
    "    'Order a yoga mat',\n",
    "    'Find a leather wallet',\n",
    "    'Bluetooth music box',\n",
    "    'Smart mobile phone',\n",
    "    'Blue pants'\n",
    "]\n",
    "results = test_keyword_extractor(extractor, sample_queries)\n",
    "for query, matches in results.items():\n",
    "    print(f\"Query: {query}\")\n",
    "    for name, score in matches:\n",
    "        print(f\"  Match: {name} (score: {score:.2f})\")\n",
    "    print()"
   ]
  }
 ],
 "metadata": {
  "kernelspec": {
   "display_name": "Python 3",
   "language": "python",
   "name": "python3"
  },
  "language_info": {
   "codemirror_mode": {
    "name": "ipython",
    "version": 3
   },
   "file_extension": ".py",
   "mimetype": "text/x-python",
   "name": "python",
   "nbconvert_exporter": "python",
   "pygments_lexer": "ipython3",
   "version": "3.13.5"
  }
 },
 "nbformat": 4,
 "nbformat_minor": 5
}
